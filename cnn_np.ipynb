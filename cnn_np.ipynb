{
 "cells": [
  {
   "cell_type": "markdown",
   "metadata": {},
   "source": [
    "# Convolutional Neural Network"
   ]
  },
  {
   "cell_type": "markdown",
   "metadata": {},
   "source": [
    "### Importing the libraries"
   ]
  },
  {
   "cell_type": "code",
   "execution_count": 1,
   "metadata": {},
   "outputs": [],
   "source": [
    "import tensorflow as tf\n",
    "from keras.preprocessing.image import ImageDataGenerator"
   ]
  },
  {
   "cell_type": "code",
   "execution_count": 2,
   "metadata": {},
   "outputs": [
    {
     "data": {
      "text/plain": [
       "'2.3.1'"
      ]
     },
     "execution_count": 2,
     "metadata": {},
     "output_type": "execute_result"
    }
   ],
   "source": [
    "tf.__version__"
   ]
  },
  {
   "cell_type": "markdown",
   "metadata": {},
   "source": [
    "# Data Preprocessing"
   ]
  },
  {
   "cell_type": "markdown",
   "metadata": {},
   "source": [
    "#### Preprocessing the Training set "
   ]
  },
  {
   "cell_type": "code",
   "execution_count": 145,
   "metadata": {},
   "outputs": [
    {
     "name": "stdout",
     "output_type": "stream",
     "text": [
      "Found 280 images belonging to 2 classes.\n"
     ]
    }
   ],
   "source": [
    "train_datagen = ImageDataGenerator(rescale = 1./255,                                   \n",
    "                                   horizontal_flip = False)\n",
    "training_set = train_datagen.flow_from_directory('dataset/train',\n",
    "                                                 target_size = (64, 64),\n",
    "                                                 batch_size = 10,\n",
    "                                                 class_mode = 'binary')"
   ]
  },
  {
   "cell_type": "code",
   "execution_count": 146,
   "metadata": {},
   "outputs": [
    {
     "name": "stdout",
     "output_type": "stream",
     "text": [
      "Found 120 images belonging to 2 classes.\n"
     ]
    }
   ],
   "source": [
    "test_datagen = ImageDataGenerator(rescale = 1./255, horizontal_flip = False)\n",
    "test_set = test_datagen.flow_from_directory('dataset/test',\n",
    "                                            target_size = (64, 64),\n",
    "                                            batch_size = 10,\n",
    "                                            class_mode = 'binary')"
   ]
  },
  {
   "cell_type": "markdown",
   "metadata": {},
   "source": [
    "# Building the CNN"
   ]
  },
  {
   "cell_type": "markdown",
   "metadata": {},
   "source": [
    "#### Initialising the CNN"
   ]
  },
  {
   "cell_type": "code",
   "execution_count": 147,
   "metadata": {},
   "outputs": [],
   "source": [
    "cnn = tf.keras.models.Sequential()"
   ]
  },
  {
   "cell_type": "markdown",
   "metadata": {},
   "source": [
    "#### Convolution"
   ]
  },
  {
   "cell_type": "code",
   "execution_count": 148,
   "metadata": {},
   "outputs": [],
   "source": [
    "cnn.add(tf.keras.layers.Conv2D(filters=32, kernel_size=3, activation='relu', input_shape=[64,64,3]))"
   ]
  },
  {
   "cell_type": "markdown",
   "metadata": {},
   "source": [
    "#### Pooling"
   ]
  },
  {
   "cell_type": "code",
   "execution_count": 149,
   "metadata": {},
   "outputs": [],
   "source": [
    "cnn.add(tf.keras.layers.MaxPool2D(pool_size=2, strides=2))"
   ]
  },
  {
   "cell_type": "markdown",
   "metadata": {},
   "source": [
    "### Second Layer"
   ]
  },
  {
   "cell_type": "markdown",
   "metadata": {},
   "source": [
    "#### Second convolution layer "
   ]
  },
  {
   "cell_type": "code",
   "execution_count": 150,
   "metadata": {},
   "outputs": [],
   "source": [
    "cnn.add(tf.keras.layers.Conv2D(filters=64, kernel_size=3, activation='relu'))\n",
    "# cnn.add(tf.keras.layers.BatchNormalization())\n",
    "cnn.add(tf.keras.layers.MaxPool2D(pool_size=2, strides=2))\n"
   ]
  },
  {
   "cell_type": "markdown",
   "metadata": {},
   "source": [
    "#### Third convolution layer "
   ]
  },
  {
   "cell_type": "code",
   "execution_count": 151,
   "metadata": {},
   "outputs": [],
   "source": [
    "cnn.add(tf.keras.layers.Conv2D(filters=128, kernel_size=3, activation='relu'))\n",
    "# cnn.add(tf.keras.layers.BatchNormalization())\n",
    "cnn.add(tf.keras.layers.MaxPool2D(pool_size=2, strides=2))\n"
   ]
  },
  {
   "cell_type": "markdown",
   "metadata": {},
   "source": [
    "#### Fourth convolution layer "
   ]
  },
  {
   "cell_type": "code",
   "execution_count": 152,
   "metadata": {},
   "outputs": [],
   "source": [
    "cnn.add(tf.keras.layers.Conv2D(filters=256, kernel_size=3, activation='relu'))\n",
    "# cnn.add(tf.keras.layers.BatchNormalization())\n",
    "cnn.add(tf.keras.layers.MaxPool2D(pool_size=2, strides=2))\n"
   ]
  },
  {
   "cell_type": "code",
   "execution_count": 153,
   "metadata": {},
   "outputs": [],
   "source": [
    "# cnn.add(tf.keras.layers.Conv2D(filters=256, kernel_size=4, activation='relu'))\n",
    "# cnn.add(tf.keras.layers.MaxPool2D(pool_size=2, strides=2))"
   ]
  },
  {
   "cell_type": "markdown",
   "metadata": {},
   "source": [
    "#### Flattening "
   ]
  },
  {
   "cell_type": "code",
   "execution_count": 154,
   "metadata": {},
   "outputs": [],
   "source": [
    "cnn.add(tf.keras.layers.Flatten()) #Flattens all layers to 1D vector"
   ]
  },
  {
   "cell_type": "markdown",
   "metadata": {},
   "source": [
    "#### Full Connection "
   ]
  },
  {
   "cell_type": "code",
   "execution_count": 155,
   "metadata": {},
   "outputs": [],
   "source": [
    "# cnn.add(tf.keras.layers.Dense(units=512, activation='relu'))\n",
    "# Units -> Number of neurons\n",
    "# relu -> Rectifier activation\n",
    "\n",
    "cnn.add(tf.keras.layers.Dense(units=1024, activation='relu'))\n",
    "cnn.add(tf.keras.layers.Dropout(0.5))"
   ]
  },
  {
   "cell_type": "markdown",
   "metadata": {},
   "source": [
    "### Output Layer"
   ]
  },
  {
   "cell_type": "code",
   "execution_count": 156,
   "metadata": {},
   "outputs": [],
   "source": [
    "# cnn.add(tf.keras.layers.Dense(units=1, activation='sigmoid'))\n",
    "cnn.add(tf.keras.layers.Dense(units=1, activation='sigmoid'))\n",
    "# units is one as we have only binary classification\n",
    "# activation is 'sigmoid' for binary classification and 'softmax' for multiple classification"
   ]
  },
  {
   "cell_type": "markdown",
   "metadata": {},
   "source": [
    "# Training the CNN "
   ]
  },
  {
   "cell_type": "markdown",
   "metadata": {},
   "source": [
    "#### Compiling the CNN "
   ]
  },
  {
   "cell_type": "code",
   "execution_count": 157,
   "metadata": {},
   "outputs": [],
   "source": [
    "cnn.compile(optimizer='adam', loss='binary_crossentropy', metrics = ['accuracy'])"
   ]
  },
  {
   "cell_type": "markdown",
   "metadata": {},
   "source": [
    "#### Training the CNN on training set and evaluating on testing set "
   ]
  },
  {
   "cell_type": "code",
   "execution_count": null,
   "metadata": {},
   "outputs": [
    {
     "name": "stdout",
     "output_type": "stream",
     "text": [
      "Epoch 1/25\n",
      "28/28 [==============================] - 2s 64ms/step - loss: 0.4949 - accuracy: 0.7714 - val_loss: 0.2066 - val_accuracy: 0.9167\n",
      "Epoch 2/25\n",
      "28/28 [==============================] - 2s 60ms/step - loss: 0.1077 - accuracy: 0.9607 - val_loss: 0.0268 - val_accuracy: 1.0000\n",
      "Epoch 3/25\n",
      "28/28 [==============================] - 2s 62ms/step - loss: 0.0204 - accuracy: 0.9964 - val_loss: 0.0101 - val_accuracy: 1.0000\n",
      "Epoch 4/25\n",
      "28/28 [==============================] - 2s 61ms/step - loss: 0.0049 - accuracy: 1.0000 - val_loss: 0.0581 - val_accuracy: 0.9750\n",
      "Epoch 5/25\n",
      "28/28 [==============================] - 2s 60ms/step - loss: 0.0115 - accuracy: 0.9964 - val_loss: 0.1066 - val_accuracy: 0.9583\n",
      "Epoch 6/25\n",
      "28/28 [==============================] - 2s 65ms/step - loss: 0.0130 - accuracy: 0.9929 - val_loss: 0.0452 - val_accuracy: 0.9750\n",
      "Epoch 7/25\n",
      "28/28 [==============================] - 2s 63ms/step - loss: 0.0311 - accuracy: 0.9929 - val_loss: 0.1002 - val_accuracy: 0.9583\n",
      "Epoch 8/25\n",
      "28/28 [==============================] - 2s 72ms/step - loss: 0.0206 - accuracy: 0.9929 - val_loss: 9.7813e-04 - val_accuracy: 1.0000\n",
      "Epoch 9/25\n",
      "28/28 [==============================] - 2s 75ms/step - loss: 0.0020 - accuracy: 1.0000 - val_loss: 2.4461e-04 - val_accuracy: 1.0000\n",
      "Epoch 10/25\n",
      "28/28 [==============================] - 2s 69ms/step - loss: 4.2723e-05 - accuracy: 1.0000 - val_loss: 5.6595e-04 - val_accuracy: 1.0000\n",
      "Epoch 11/25\n",
      "28/28 [==============================] - 2s 68ms/step - loss: 2.7163e-05 - accuracy: 1.0000 - val_loss: 4.0549e-04 - val_accuracy: 1.0000\n",
      "Epoch 12/25\n",
      "28/28 [==============================] - 2s 65ms/step - loss: 2.8620e-05 - accuracy: 1.0000 - val_loss: 3.6139e-04 - val_accuracy: 1.0000\n",
      "Epoch 13/25\n",
      "28/28 [==============================] - 2s 69ms/step - loss: 2.4304e-05 - accuracy: 1.0000 - val_loss: 2.8693e-04 - val_accuracy: 1.0000\n",
      "Epoch 14/25\n",
      "28/28 [==============================] - 2s 69ms/step - loss: 8.5829e-06 - accuracy: 1.0000 - val_loss: 3.2102e-04 - val_accuracy: 1.0000\n",
      "Epoch 15/25\n",
      "28/28 [==============================] - 2s 72ms/step - loss: 1.5069e-05 - accuracy: 1.0000 - val_loss: 2.9294e-04 - val_accuracy: 1.0000\n",
      "Epoch 16/25\n",
      "28/28 [==============================] - 2s 76ms/step - loss: 1.2599e-05 - accuracy: 1.0000 - val_loss: 2.0036e-04 - val_accuracy: 1.0000\n",
      "Epoch 17/25\n",
      "28/28 [==============================] - 2s 64ms/step - loss: 5.3626e-06 - accuracy: 1.0000 - val_loss: 2.1708e-04 - val_accuracy: 1.0000\n",
      "Epoch 18/25\n",
      "28/28 [==============================] - 2s 63ms/step - loss: 6.9286e-06 - accuracy: 1.0000 - val_loss: 2.4157e-04 - val_accuracy: 1.0000\n",
      "Epoch 19/25\n",
      "28/28 [==============================] - 2s 67ms/step - loss: 7.4393e-06 - accuracy: 1.0000 - val_loss: 2.4343e-04 - val_accuracy: 1.0000\n",
      "Epoch 20/25\n",
      "28/28 [==============================] - 2s 67ms/step - loss: 2.3726e-05 - accuracy: 1.0000 - val_loss: 1.3431e-04 - val_accuracy: 1.0000\n",
      "Epoch 21/25\n",
      "28/28 [==============================] - 2s 68ms/step - loss: 1.7723e-05 - accuracy: 1.0000 - val_loss: 1.0841e-04 - val_accuracy: 1.0000\n",
      "Epoch 22/25\n",
      "28/28 [==============================] - 2s 65ms/step - loss: 3.9297e-06 - accuracy: 1.0000 - val_loss: 1.0901e-04 - val_accuracy: 1.0000\n",
      "Epoch 23/25\n",
      "28/28 [==============================] - 2s 66ms/step - loss: 5.5542e-06 - accuracy: 1.0000 - val_loss: 9.6037e-05 - val_accuracy: 1.0000\n",
      "Epoch 24/25\n",
      " 5/28 [====>.........................] - ETA: 0s - loss: 3.1356e-06 - accuracy: 1.0000"
     ]
    }
   ],
   "source": [
    "cnn.fit(x=training_set, validation_data= test_set, epochs = 25)"
   ]
  },
  {
   "cell_type": "markdown",
   "metadata": {},
   "source": [
    "# Making Single Predictions"
   ]
  },
  {
   "cell_type": "code",
   "execution_count": null,
   "metadata": {},
   "outputs": [],
   "source": [
    "cnn.save('cnn_model.h5')"
   ]
  },
  {
   "cell_type": "code",
   "execution_count": null,
   "metadata": {},
   "outputs": [],
   "source": [
    "new_model = tf.keras.models.load_model('cnn_model.h5')"
   ]
  },
  {
   "cell_type": "code",
   "execution_count": null,
   "metadata": {},
   "outputs": [],
   "source": [
    "import numpy as np\n",
    "from keras.preprocessing import image\n",
    "def predictor(i):\n",
    "    test_image = image.load_img('dataset/single_prediction/ambulance_or_traffic_'+str(i)+'.png', target_size = (64,64)) \n",
    "    test_image = image.img_to_array(test_image)\n",
    "    test_image = np.expand_dims(test_image, axis = 0)\n",
    "    result = new_model.predict(test_image)\n",
    "#     print(result[0][0])\n",
    "#     training_set.class_indices\n",
    "    if round(result[0][0]) == 1:\n",
    "        prediction = 'traffic'\n",
    "    else:\n",
    "        prediction = 'ambulance'\n",
    "    print(prediction)\n",
    "#     print(result)\n",
    "for i in range(1,12):\n",
    "    predictor(i)\n",
    "    \n",
    "    \n",
    "# test_image = image.load_img('dataset/single_prediction/ambulance_or_traffic_7.png', target_size = (64,64)) \n",
    "# test_image = image.img_to_array(test_image)\n",
    "# test_image = np.expand_dims(test_image, axis = 0)\n",
    "# result = new_model.predict(test_image)\n",
    "# training_set.class_indices\n",
    "# if result[0][0] == 1:\n",
    "#     prediction = 'traffic'\n",
    "# else:\n",
    "#     prediction = 'ambulance'\n",
    "# print(prediction)"
   ]
  }
 ],
 "metadata": {
  "kernelspec": {
   "display_name": "Python 3",
   "language": "python",
   "name": "python3"
  },
  "language_info": {
   "codemirror_mode": {
    "name": "ipython",
    "version": 3
   },
   "file_extension": ".py",
   "mimetype": "text/x-python",
   "name": "python",
   "nbconvert_exporter": "python",
   "pygments_lexer": "ipython3",
   "version": "3.7.8"
  }
 },
 "nbformat": 4,
 "nbformat_minor": 2
}
