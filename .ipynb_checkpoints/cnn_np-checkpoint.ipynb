{
 "cells": [
  {
   "cell_type": "markdown",
   "metadata": {},
   "source": [
    "# Convolutional Neural Network"
   ]
  },
  {
   "cell_type": "markdown",
   "metadata": {},
   "source": [
    "### Importing the libraries"
   ]
  },
  {
   "cell_type": "code",
   "execution_count": 1,
   "metadata": {},
   "outputs": [],
   "source": [
    "import tensorflow as tf\n",
    "from keras.preprocessing.image import ImageDataGenerator"
   ]
  },
  {
   "cell_type": "code",
   "execution_count": 2,
   "metadata": {},
   "outputs": [
    {
     "data": {
      "text/plain": [
       "'2.3.1'"
      ]
     },
     "execution_count": 2,
     "metadata": {},
     "output_type": "execute_result"
    }
   ],
   "source": [
    "tf.__version__"
   ]
  },
  {
   "cell_type": "markdown",
   "metadata": {},
   "source": [
    "# Data Preprocessing"
   ]
  },
  {
   "cell_type": "markdown",
   "metadata": {},
   "source": [
    "#### Preprocessing the Training set "
   ]
  },
  {
   "cell_type": "code",
   "execution_count": 3,
   "metadata": {},
   "outputs": [
    {
     "name": "stdout",
     "output_type": "stream",
     "text": [
      "Found 280 images belonging to 2 classes.\n"
     ]
    }
   ],
   "source": [
    "train_datagen = ImageDataGenerator(rescale = 1./255,                                   \n",
    "                                   horizontal_flip = False)\n",
    "training_set = train_datagen.flow_from_directory('dataset/train',\n",
    "                                                 target_size = (64, 64),\n",
    "                                                 batch_size = 10,\n",
    "                                                 class_mode = 'binary')"
   ]
  },
  {
   "cell_type": "code",
   "execution_count": 4,
   "metadata": {},
   "outputs": [
    {
     "name": "stdout",
     "output_type": "stream",
     "text": [
      "Found 120 images belonging to 2 classes.\n"
     ]
    }
   ],
   "source": [
    "test_datagen = ImageDataGenerator(rescale = 1./255, horizontal_flip = False)\n",
    "test_set = test_datagen.flow_from_directory('dataset/test',\n",
    "                                            target_size = (64, 64),\n",
    "                                            batch_size = 10,\n",
    "                                            class_mode = 'binary')"
   ]
  },
  {
   "cell_type": "markdown",
   "metadata": {},
   "source": [
    "# Building the CNN"
   ]
  },
  {
   "cell_type": "markdown",
   "metadata": {},
   "source": [
    "#### Initialising the CNN"
   ]
  },
  {
   "cell_type": "code",
   "execution_count": 5,
   "metadata": {},
   "outputs": [],
   "source": [
    "cnn = tf.keras.models.Sequential()"
   ]
  },
  {
   "cell_type": "markdown",
   "metadata": {},
   "source": [
    "#### Convolution"
   ]
  },
  {
   "cell_type": "code",
   "execution_count": 6,
   "metadata": {},
   "outputs": [],
   "source": [
    "cnn.add(tf.keras.layers.Conv2D(filters=32, kernel_size=3, activation='relu', input_shape=[64,64,3]))"
   ]
  },
  {
   "cell_type": "markdown",
   "metadata": {},
   "source": [
    "#### Pooling"
   ]
  },
  {
   "cell_type": "code",
   "execution_count": 7,
   "metadata": {},
   "outputs": [],
   "source": [
    "cnn.add(tf.keras.layers.MaxPool2D(pool_size=2, strides=2))"
   ]
  },
  {
   "cell_type": "markdown",
   "metadata": {},
   "source": [
    "### Second Layer"
   ]
  },
  {
   "cell_type": "markdown",
   "metadata": {},
   "source": [
    "#### Second convolution layer "
   ]
  },
  {
   "cell_type": "code",
   "execution_count": 8,
   "metadata": {},
   "outputs": [],
   "source": [
    "cnn.add(tf.keras.layers.Conv2D(filters=64, kernel_size=3, activation='relu'))\n",
    "cnn.add(tf.keras.layers.BatchNormalization())\n",
    "cnn.add(tf.keras.layers.MaxPool2D(pool_size=2, strides=2))\n"
   ]
  },
  {
   "cell_type": "markdown",
   "metadata": {},
   "source": [
    "#### Third convolution layer "
   ]
  },
  {
   "cell_type": "code",
   "execution_count": 9,
   "metadata": {},
   "outputs": [],
   "source": [
    "cnn.add(tf.keras.layers.Conv2D(filters=128, kernel_size=3, activation='relu'))\n",
    "cnn.add(tf.keras.layers.MaxPool2D(pool_size=2, strides=2))\n"
   ]
  },
  {
   "cell_type": "markdown",
   "metadata": {},
   "source": [
    "#### Fourth convolution layer "
   ]
  },
  {
   "cell_type": "code",
   "execution_count": 10,
   "metadata": {},
   "outputs": [],
   "source": [
    "cnn.add(tf.keras.layers.Conv2D(filters=256, kernel_size=3, activation='relu'))\n",
    "cnn.add(tf.keras.layers.MaxPool2D(pool_size=2, strides=2))\n"
   ]
  },
  {
   "cell_type": "code",
   "execution_count": 11,
   "metadata": {},
   "outputs": [],
   "source": [
    "# cnn.add(tf.keras.layers.Conv2D(filters=256, kernel_size=4, activation='relu'))\n",
    "# cnn.add(tf.keras.layers.MaxPool2D(pool_size=2, strides=2))"
   ]
  },
  {
   "cell_type": "markdown",
   "metadata": {},
   "source": [
    "#### Flattening "
   ]
  },
  {
   "cell_type": "code",
   "execution_count": 12,
   "metadata": {},
   "outputs": [],
   "source": [
    "cnn.add(tf.keras.layers.Flatten()) #Flattens all layers to 1D vector"
   ]
  },
  {
   "cell_type": "markdown",
   "metadata": {},
   "source": [
    "#### Full Connection "
   ]
  },
  {
   "cell_type": "code",
   "execution_count": 13,
   "metadata": {},
   "outputs": [],
   "source": [
    "# cnn.add(tf.keras.layers.Dense(units=512, activation='relu'))\n",
    "# Units -> Number of neurons\n",
    "# relu -> Rectifier activation\n",
    "cnn.add(tf.keras.layers.Dense(units=128, activation='relu'))\n",
    "cnn.add(tf.keras.layers.Dropout(0.5))\n",
    "cnn.add(tf.keras.layers.Dense(units=256, activation='relu'))\n",
    "cnn.add(tf.keras.layers.Dropout(0.5))\n",
    "cnn.add(tf.keras.layers.Dense(units=512, activation='relu'))\n",
    "cnn.add(tf.keras.layers.Dropout(0.5))"
   ]
  },
  {
   "cell_type": "markdown",
   "metadata": {},
   "source": [
    "### Output Layer"
   ]
  },
  {
   "cell_type": "code",
   "execution_count": 14,
   "metadata": {},
   "outputs": [],
   "source": [
    "# cnn.add(tf.keras.layers.Dense(units=1, activation='sigmoid'))\n",
    "cnn.add(tf.keras.layers.Dense(units=1, activation='sigmoid'))\n",
    "# units is one as we have only binary classification\n",
    "# activation is 'sigmoid' for binary classification and 'softmax' for multiple classification"
   ]
  },
  {
   "cell_type": "markdown",
   "metadata": {},
   "source": [
    "# Training the CNN "
   ]
  },
  {
   "cell_type": "markdown",
   "metadata": {},
   "source": [
    "#### Compiling the CNN "
   ]
  },
  {
   "cell_type": "code",
   "execution_count": 15,
   "metadata": {},
   "outputs": [],
   "source": [
    "cnn.compile(optimizer='adam', loss='binary_crossentropy', metrics = ['accuracy'])"
   ]
  },
  {
   "cell_type": "markdown",
   "metadata": {},
   "source": [
    "#### Training the CNN on training set and evaluating on testing set "
   ]
  },
  {
   "cell_type": "code",
   "execution_count": 16,
   "metadata": {},
   "outputs": [
    {
     "name": "stdout",
     "output_type": "stream",
     "text": [
      "Epoch 1/25\n",
      "28/28 [==============================] - 3s 100ms/step - loss: 0.6582 - accuracy: 0.5964 - val_loss: 0.3949 - val_accuracy: 0.8667\n",
      "Epoch 2/25\n",
      "28/28 [==============================] - 1s 48ms/step - loss: 0.3995 - accuracy: 0.8500 - val_loss: 0.4179 - val_accuracy: 0.7917\n",
      "Epoch 3/25\n",
      "28/28 [==============================] - 1s 50ms/step - loss: 0.2345 - accuracy: 0.9179 - val_loss: 0.1191 - val_accuracy: 0.9417\n",
      "Epoch 4/25\n",
      "28/28 [==============================] - 1s 49ms/step - loss: 0.1334 - accuracy: 0.9393 - val_loss: 0.0563 - val_accuracy: 0.9667\n",
      "Epoch 5/25\n",
      "28/28 [==============================] - 1s 48ms/step - loss: 0.0403 - accuracy: 0.9893 - val_loss: 0.0798 - val_accuracy: 0.9750\n",
      "Epoch 6/25\n",
      "28/28 [==============================] - 1s 48ms/step - loss: 0.0513 - accuracy: 0.9857 - val_loss: 0.0662 - val_accuracy: 0.9750\n",
      "Epoch 7/25\n",
      "28/28 [==============================] - 1s 51ms/step - loss: 0.0516 - accuracy: 0.9893 - val_loss: 0.0094 - val_accuracy: 1.0000\n",
      "Epoch 8/25\n",
      "28/28 [==============================] - 1s 52ms/step - loss: 0.0066 - accuracy: 1.0000 - val_loss: 5.7972e-04 - val_accuracy: 1.0000\n",
      "Epoch 9/25\n",
      "28/28 [==============================] - 1s 49ms/step - loss: 0.0010 - accuracy: 1.0000 - val_loss: 0.0448 - val_accuracy: 0.9833\n",
      "Epoch 10/25\n",
      "28/28 [==============================] - 1s 49ms/step - loss: 0.1191 - accuracy: 0.9679 - val_loss: 0.0382 - val_accuracy: 0.9833\n",
      "Epoch 11/25\n",
      "28/28 [==============================] - 1s 49ms/step - loss: 0.0462 - accuracy: 0.9857 - val_loss: 0.1337 - val_accuracy: 0.9583\n",
      "Epoch 12/25\n",
      "28/28 [==============================] - 1s 49ms/step - loss: 0.0145 - accuracy: 0.9964 - val_loss: 3.4482e-04 - val_accuracy: 1.0000\n",
      "Epoch 13/25\n",
      "28/28 [==============================] - 1s 50ms/step - loss: 0.0075 - accuracy: 0.9964 - val_loss: 0.0193 - val_accuracy: 0.9833\n",
      "Epoch 14/25\n",
      "28/28 [==============================] - 1s 53ms/step - loss: 0.0157 - accuracy: 0.9964 - val_loss: 0.2221 - val_accuracy: 0.9500\n",
      "Epoch 15/25\n",
      "28/28 [==============================] - 1s 51ms/step - loss: 0.0247 - accuracy: 0.9929 - val_loss: 9.4837e-04 - val_accuracy: 1.0000\n",
      "Epoch 16/25\n",
      "28/28 [==============================] - 1s 51ms/step - loss: 0.0015 - accuracy: 1.0000 - val_loss: 2.2361e-06 - val_accuracy: 1.0000\n",
      "Epoch 17/25\n",
      "28/28 [==============================] - 1s 51ms/step - loss: 3.0291e-04 - accuracy: 1.0000 - val_loss: 0.0056 - val_accuracy: 1.0000\n",
      "Epoch 18/25\n",
      "28/28 [==============================] - 1s 51ms/step - loss: 2.9655e-04 - accuracy: 1.0000 - val_loss: 1.3869e-04 - val_accuracy: 1.0000\n",
      "Epoch 19/25\n",
      "28/28 [==============================] - 1s 53ms/step - loss: 9.6629e-04 - accuracy: 1.0000 - val_loss: 1.1850e-04 - val_accuracy: 1.0000\n",
      "Epoch 20/25\n",
      "28/28 [==============================] - 1s 53ms/step - loss: 0.0187 - accuracy: 0.9964 - val_loss: 0.0014 - val_accuracy: 1.0000\n",
      "Epoch 21/25\n",
      "28/28 [==============================] - 1s 51ms/step - loss: 0.0024 - accuracy: 1.0000 - val_loss: 0.0145 - val_accuracy: 0.9917\n",
      "Epoch 22/25\n",
      "28/28 [==============================] - 1s 51ms/step - loss: 2.9723e-04 - accuracy: 1.0000 - val_loss: 5.8136e-04 - val_accuracy: 1.0000\n",
      "Epoch 23/25\n",
      "28/28 [==============================] - 1s 52ms/step - loss: 6.1843e-05 - accuracy: 1.0000 - val_loss: 8.2845e-06 - val_accuracy: 1.0000\n",
      "Epoch 24/25\n",
      "28/28 [==============================] - 1s 53ms/step - loss: 1.5272e-04 - accuracy: 1.0000 - val_loss: 6.7588e-06 - val_accuracy: 1.0000\n",
      "Epoch 25/25\n",
      "28/28 [==============================] - 2s 58ms/step - loss: 4.0215e-06 - accuracy: 1.0000 - val_loss: 6.9101e-06 - val_accuracy: 1.0000\n"
     ]
    },
    {
     "data": {
      "text/plain": [
       "<tensorflow.python.keras.callbacks.History at 0x2351ac8c8c8>"
      ]
     },
     "execution_count": 16,
     "metadata": {},
     "output_type": "execute_result"
    }
   ],
   "source": [
    "cnn.fit(x=training_set, validation_data= test_set, epochs = 25)"
   ]
  },
  {
   "cell_type": "markdown",
   "metadata": {},
   "source": [
    "# Making Single Predictions"
   ]
  },
  {
   "cell_type": "code",
   "execution_count": 17,
   "metadata": {},
   "outputs": [],
   "source": [
    "cnn.save('cnn_model.h5')"
   ]
  },
  {
   "cell_type": "code",
   "execution_count": 18,
   "metadata": {},
   "outputs": [],
   "source": [
    "new_model = tf.keras.models.load_model('cnn_model.h5')"
   ]
  },
  {
   "cell_type": "code",
   "execution_count": 19,
   "metadata": {},
   "outputs": [
    {
     "name": "stdout",
     "output_type": "stream",
     "text": [
      "ambulance\n",
      "traffic\n",
      "traffic\n",
      "ambulance\n",
      "ambulance\n",
      "ambulance\n",
      "traffic\n",
      "traffic\n",
      "ambulance\n",
      "ambulance\n",
      "ambulance\n"
     ]
    }
   ],
   "source": [
    "import numpy as np\n",
    "from keras.preprocessing import image\n",
    "def predictor(i):\n",
    "    test_image = image.load_img('dataset/single_prediction/ambulance_or_traffic_'+str(i)+'.png', target_size = (64,64)) \n",
    "    test_image = image.img_to_array(test_image)\n",
    "    test_image = np.expand_dims(test_image, axis = 0)\n",
    "    result = new_model.predict(test_image)\n",
    "#     training_set.class_indices\n",
    "    if result[0][0] == 1:\n",
    "        prediction = 'traffic'\n",
    "    else:\n",
    "        prediction = 'ambulance'\n",
    "    print(prediction)\n",
    "#     print(result)\n",
    "for i in range(1,12):\n",
    "    predictor(i)\n",
    "    \n",
    "    \n",
    "# test_image = image.load_img('dataset/single_prediction/ambulance_or_traffic_7.png', target_size = (64,64)) \n",
    "# test_image = image.img_to_array(test_image)\n",
    "# test_image = np.expand_dims(test_image, axis = 0)\n",
    "# result = new_model.predict(test_image)\n",
    "# training_set.class_indices\n",
    "# if result[0][0] == 1:\n",
    "#     prediction = 'traffic'\n",
    "# else:\n",
    "#     prediction = 'ambulance'\n",
    "# print(prediction)"
   ]
  },
  {
   "cell_type": "code",
   "execution_count": 102,
   "metadata": {},
   "outputs": [
    {
     "data": {
      "text/plain": [
       "<keras.preprocessing.image.DirectoryIterator at 0x2abbf7bc748>"
      ]
     },
     "execution_count": 102,
     "metadata": {},
     "output_type": "execute_result"
    }
   ],
   "source": [
    "training_set"
   ]
  },
  {
   "cell_type": "code",
   "execution_count": 1,
   "metadata": {},
   "outputs": [],
   "source": [
    "import pickle"
   ]
  },
  {
   "cell_type": "code",
   "execution_count": null,
   "metadata": {},
   "outputs": [],
   "source": []
  }
 ],
 "metadata": {
  "kernelspec": {
   "display_name": "Python 3",
   "language": "python",
   "name": "python3"
  },
  "language_info": {
   "codemirror_mode": {
    "name": "ipython",
    "version": 3
   },
   "file_extension": ".py",
   "mimetype": "text/x-python",
   "name": "python",
   "nbconvert_exporter": "python",
   "pygments_lexer": "ipython3",
   "version": "3.7.8"
  }
 },
 "nbformat": 4,
 "nbformat_minor": 2
}
